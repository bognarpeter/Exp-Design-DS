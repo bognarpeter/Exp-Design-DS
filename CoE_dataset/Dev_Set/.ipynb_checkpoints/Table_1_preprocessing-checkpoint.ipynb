{
 "cells": [
  {
   "cell_type": "code",
   "execution_count": 1,
   "metadata": {
    "scrolled": true
   },
   "outputs": [],
   "source": [
    "import pathlib\n",
    "import pandas as pd\n",
    "import xml.etree.ElementTree as et\n",
    "\n",
    "# define the path\n",
    "currentDirectory = pathlib.Path('D:/TU/ED/EX2/CoE_dataset/Dev_Set/XML')\n",
    "\n",
    "# define the pattern\n",
    "currentPattern = \"*.xml\"\n",
    "all_xml_files = []\n",
    "for currentFile in currentDirectory.glob(currentPattern):\n",
    "    all_xml_files.append(currentFile.parts[-1])\n",
    "    \n",
    "#print(all_xml_files)"
   ]
  },
  {
   "cell_type": "code",
   "execution_count": 2,
   "metadata": {},
   "outputs": [],
   "source": [
    "def parse_XML(xml_file, name, df_cols):\n",
    "            global out_df\n",
    "\n",
    "            xtree = et.parse(xml_file)\n",
    "            xroot = xtree.getroot()\n",
    "            fin = []\n",
    "            res = []\n",
    "            res.append(name.split(\".\")[0])\n",
    "            \n",
    "            for node in xroot:\n",
    "                for i in node_cols:\n",
    "                    res.append(node.attrib.get(i))\n",
    "\n",
    "            fin.append(res)\n",
    "            print(fin)\n",
    "            out_df = pd.DataFrame(data=fin, columns =meta_cols)\n",
    "            return out_df\n",
    "        \n",
    "def parse_XML1(xml_file, name, df_cols, df):\n",
    "            global out_df\n",
    "            xtree = et.parse(xml_file)\n",
    "            xroot = xtree.getroot()\n",
    "            fin = []\n",
    "            res = []\n",
    "            if name.split(\".\")[0] == \"Mr\":\n",
    "                res.append(\"Mr._Go\")\n",
    "            else:\n",
    "                res.append(name.split(\".\")[0])\n",
    "            for node in xroot:\n",
    "                for i in node_cols:\n",
    "                    res.append(node.attrib.get(i))\n",
    "\n",
    "            fin.append(res)\n",
    "            df1 = pd.DataFrame(data=fin, columns =meta_cols)\n",
    "            \n",
    "            frames = [df, df1]\n",
    "            \n",
    "            out_df = pd.concat(frames)\n",
    "            \n",
    "            return out_df"
   ]
  },
  {
   "cell_type": "code",
   "execution_count": 3,
   "metadata": {},
   "outputs": [],
   "source": [
    "meta_cols = [\"filename\",\"language\", \"year\", \"genre\", \"country\",\n",
    "            \"runtime\", \"rated\"]\n",
    "\n",
    "node_cols = [\"language\", \"year\", \"genre\", \"country\",\n",
    "            \"runtime\", \"rated\"]"
   ]
  },
  {
   "cell_type": "code",
   "execution_count": 4,
   "metadata": {},
   "outputs": [
    {
     "name": "stdout",
     "output_type": "stream",
     "text": [
      "[['American_Gangster', 'English', '2007', 'Biography, Crime, Drama', 'USA, UK', '157 min', 'R']]\n"
     ]
    }
   ],
   "source": [
    "c = 1\n",
    "for i in all_xml_files:\n",
    "    if c==1:\n",
    "        parse_XML(\"XML/\" + i, i,  meta_cols)\n",
    "        c=43\n",
    "    else:\n",
    "        parse_XML1(\"XML/\"+i, i, meta_cols, out_df)"
   ]
  },
  {
   "cell_type": "code",
   "execution_count": 5,
   "metadata": {},
   "outputs": [],
   "source": [
    "df_ground = pd.read_excel(\"dev_set_groundtruth_and_trailers.xls\",index_col=False)"
   ]
  },
  {
   "cell_type": "code",
   "execution_count": 6,
   "metadata": {},
   "outputs": [],
   "source": [
    "a = df_ground[\"filename\"].sort_values()\n",
    "b = out_df[\"filename\"].sort_values()\n",
    "\n",
    "for i in a.values:\n",
    "    if i in b.values:\n",
    "        continue\n",
    "    else:\n",
    "        print(i)"
   ]
  },
  {
   "cell_type": "code",
   "execution_count": 7,
   "metadata": {},
   "outputs": [],
   "source": [
    "df_join = pd.merge(df_ground, out_df, on=\"filename\", how=\"inner\")"
   ]
  },
  {
   "cell_type": "code",
   "execution_count": 8,
   "metadata": {},
   "outputs": [],
   "source": [
    "df_join = df_join.drop([\"movie\", \"filename\", \"trailer\"], axis=1)"
   ]
  },
  {
   "cell_type": "code",
   "execution_count": 9,
   "metadata": {},
   "outputs": [],
   "source": [
    "import numpy as np\n",
    "\n",
    "count=0\n",
    "for i in df_join[\"genre\"].values:\n",
    "    df_join[\"genre\"].values[count] = i.replace(\" \", \"\")\n",
    "    count+=1\n",
    "    \n",
    "count=0\n",
    "for i in df_join[\"language\"].values:\n",
    "    df_join[\"language\"].values[count] = i.replace(\" \", \"\")\n",
    "    count+=1\n",
    "    \n",
    "    \n",
    "count=0\n",
    "for i in df_join[\"country\"].values:\n",
    "    df_join[\"country\"].values[count] = i.replace(\" \", \"\")\n",
    "    count+=1"
   ]
  },
  {
   "cell_type": "code",
   "execution_count": 10,
   "metadata": {},
   "outputs": [],
   "source": [
    "genre = df_join.genre.str.split(\",\", expand=True).stack()\n",
    "language = df_join.language.str.split(\",\", expand=True).stack()\n",
    "country = df_join.country.str.split(\",\", expand=True).stack()"
   ]
  },
  {
   "cell_type": "code",
   "execution_count": 11,
   "metadata": {},
   "outputs": [],
   "source": [
    "df_join = pd.concat([df_join, \n",
    "                pd.get_dummies(genre, prefix=\"g\").groupby(level=0).sum()],axis=1) \\\n",
    "                .drop([\"genre\"],axis=1)\n",
    "\n",
    "df_join = pd.concat([df_join, \n",
    "                pd.get_dummies(language, prefix=\"l\").groupby(level=0).sum()],axis=1) \\\n",
    "                .drop([\"language\"],axis=1)\n",
    "\n",
    "df_join = pd.concat([df_join, \n",
    "                pd.get_dummies(country, prefix=\"c\").groupby(level=0).sum()],axis=1) \\\n",
    "                .drop([\"country\"],axis=1)"
   ]
  },
  {
   "cell_type": "code",
   "execution_count": 12,
   "metadata": {},
   "outputs": [
    {
     "data": {
      "text/plain": [
       "Index(['goodforairplane', 'year', 'runtime', 'rated', 'g_Action',\n",
       "       'g_Adventure', 'g_Animation', 'g_Biography', 'g_Comedy', 'g_Crime',\n",
       "       'g_Drama', 'g_Family', 'g_Fantasy', 'g_Horror', 'g_Music', 'g_Musical',\n",
       "       'g_Mystery', 'g_Romance', 'g_Sci-Fi', 'g_Sport', 'g_Thriller', 'g_War',\n",
       "       'g_Western', 'l_AmericanSignLanguage', 'l_Arabic', 'l_Croatian',\n",
       "       'l_Danish', 'l_Dutch', 'l_English', 'l_Filipino', 'l_French',\n",
       "       'l_German', 'l_Greek', 'l_Hindi', 'l_Hungarian', 'l_Inuktitut',\n",
       "       'l_Italian', 'l_Japanese', 'l_Korean', 'l_Latin', 'l_Mandarin',\n",
       "       'l_Navajo', 'l_Russian', 'l_Serbian', 'l_Spanish', 'l_Swahili',\n",
       "       'l_Urdu', 'l_Vietnamese', 'l_Yiddish', 'c_Argentina', 'c_Australia',\n",
       "       'c_Bahamas', 'c_Canada', 'c_China', 'c_CzechRepublic', 'c_Egypt',\n",
       "       'c_France', 'c_Germany', 'c_India', 'c_Ireland', 'c_Italy', 'c_Japan',\n",
       "       'c_Netherlands', 'c_NewZealand', 'c_SouthAfrica', 'c_SouthKorea',\n",
       "       'c_Spain', 'c_UK', 'c_USA'],\n",
       "      dtype='object')"
      ]
     },
     "execution_count": 12,
     "metadata": {},
     "output_type": "execute_result"
    }
   ],
   "source": [
    "df_join.columns"
   ]
  },
  {
   "cell_type": "code",
   "execution_count": null,
   "metadata": {},
   "outputs": [],
   "source": [
    "df_join.to_csv(\"metadata.csv\",index=False)"
   ]
  },
  {
   "cell_type": "code",
   "execution_count": null,
   "metadata": {},
   "outputs": [],
   "source": []
  }
 ],
 "metadata": {
  "kernelspec": {
   "display_name": "Python 3",
   "language": "python",
   "name": "python3"
  },
  "language_info": {
   "codemirror_mode": {
    "name": "ipython",
    "version": 3
   },
   "file_extension": ".py",
   "mimetype": "text/x-python",
   "name": "python",
   "nbconvert_exporter": "python",
   "pygments_lexer": "ipython3",
   "version": "3.6.5"
  }
 },
 "nbformat": 4,
 "nbformat_minor": 2
}
