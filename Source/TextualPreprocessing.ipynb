{
 "cells": [
  {
   "cell_type": "markdown",
   "metadata": {},
   "source": [
    "### Textual"
   ]
  },
  {
   "cell_type": "code",
   "execution_count": 14,
   "metadata": {},
   "outputs": [],
   "source": [
    "import pandas as pd\n",
    "import numpy as np"
   ]
  },
  {
   "cell_type": "markdown",
   "metadata": {},
   "source": [
    "### Data Preprocessing"
   ]
  },
  {
   "cell_type": "code",
   "execution_count": 15,
   "metadata": {},
   "outputs": [],
   "source": [
    "# Read Training data\n",
    "textual_df = pd.read_csv(\"../CoE_dataset/Dev_Set/text_descriptors/tdf_idf_dev.csv\", sep=\",\")\n",
    "ground_truth = pd.read_excel(\"../CoE_dataset/Dev_Set/dev_set_groundtruth_and_trailers.xls\")\n",
    "# Preprocess the data\n",
    "# Transpose and drop missing values\n",
    "textual_df = textual_df.T.dropna()\n",
    "# Sort Movies alphabetically \n",
    "ground_truth = ground_truth.sort_values(\"movie\")\n",
    "# Reset index for merging\n",
    "ground_truth = ground_truth.reset_index(drop=True)\n",
    "# Do the same for textual df\n",
    "textual_df = textual_df.reset_index(drop=True)\n",
    "# Drop unnecessary columns\n",
    "ground_truth = ground_truth.drop([ 'movie', 'filename','trailer' ], axis=1)\n",
    "# Join everything\n",
    "result = ground_truth.join(textual_df)"
   ]
  },
  {
   "cell_type": "code",
   "execution_count": 19,
   "metadata": {},
   "outputs": [],
   "source": [
    "# Write out to results directory\n",
    "result.to_csv(\"../Results/textual.csv\",index=False)"
   ]
  }
 ],
 "metadata": {
  "kernelspec": {
   "display_name": "Python 3",
   "language": "python",
   "name": "python3"
  },
  "language_info": {
   "codemirror_mode": {
    "name": "ipython",
    "version": 3
   },
   "file_extension": ".py",
   "mimetype": "text/x-python",
   "name": "python",
   "nbconvert_exporter": "python",
   "pygments_lexer": "ipython3",
   "version": "3.7.4"
  }
 },
 "nbformat": 4,
 "nbformat_minor": 2
}
